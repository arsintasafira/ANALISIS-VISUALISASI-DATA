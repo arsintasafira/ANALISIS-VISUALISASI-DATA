{
 "cells": [
  {
   "cell_type": "markdown",
   "id": "6219f68f-e7cd-422e-8657-639de2d886fc",
   "metadata": {},
   "source": [
    "# Visualisasi data, Pemusatan data, Penyebaran Data, dan Analisis Skewness"
   ]
  },
  {
   "cell_type": "markdown",
   "id": "14651fdd-4cd0-41a3-95f4-4d1b4e3838cb",
   "metadata": {
    "tags": []
   },
   "source": [
    "Nama : Arsinta Safira Devi\n",
    "\n",
    "NPM : 23083010012\n",
    "\n",
    "Kelas : EDA (A)"
   ]
  },
  {
   "cell_type": "code",
   "execution_count": 53,
   "id": "cec41f6c-6ee9-42d6-9479-cc723517a708",
   "metadata": {
    "tags": []
   },
   "outputs": [
    {
     "data": {
      "text/html": [
       "<div>\n",
       "<style scoped>\n",
       "    .dataframe tbody tr th:only-of-type {\n",
       "        vertical-align: middle;\n",
       "    }\n",
       "\n",
       "    .dataframe tbody tr th {\n",
       "        vertical-align: top;\n",
       "    }\n",
       "\n",
       "    .dataframe thead th {\n",
       "        text-align: right;\n",
       "    }\n",
       "</style>\n",
       "<table border=\"1\" class=\"dataframe\">\n",
       "  <thead>\n",
       "    <tr style=\"text-align: right;\">\n",
       "      <th></th>\n",
       "      <th>Customer ID</th>\n",
       "      <th>Age</th>\n",
       "      <th>Gender</th>\n",
       "      <th>Item Purchased</th>\n",
       "      <th>Category</th>\n",
       "      <th>Purchase Amount (USD)</th>\n",
       "      <th>Location</th>\n",
       "      <th>Size</th>\n",
       "      <th>Color</th>\n",
       "      <th>Season</th>\n",
       "      <th>Review Rating</th>\n",
       "      <th>Subscription Status</th>\n",
       "      <th>Shipping Type</th>\n",
       "      <th>Discount Applied</th>\n",
       "      <th>Promo Code Used</th>\n",
       "      <th>Previous Purchases</th>\n",
       "      <th>Payment Method</th>\n",
       "      <th>Frequency of Purchases</th>\n",
       "    </tr>\n",
       "  </thead>\n",
       "  <tbody>\n",
       "    <tr>\n",
       "      <th>0</th>\n",
       "      <td>1</td>\n",
       "      <td>55</td>\n",
       "      <td>Male</td>\n",
       "      <td>Blouse</td>\n",
       "      <td>Clothing</td>\n",
       "      <td>53</td>\n",
       "      <td>Kentucky</td>\n",
       "      <td>L</td>\n",
       "      <td>Gray</td>\n",
       "      <td>Winter</td>\n",
       "      <td>3.1</td>\n",
       "      <td>Yes</td>\n",
       "      <td>Express</td>\n",
       "      <td>Yes</td>\n",
       "      <td>Yes</td>\n",
       "      <td>14</td>\n",
       "      <td>Venmo</td>\n",
       "      <td>Fortnightly</td>\n",
       "    </tr>\n",
       "    <tr>\n",
       "      <th>1</th>\n",
       "      <td>2</td>\n",
       "      <td>19</td>\n",
       "      <td>Male</td>\n",
       "      <td>Sweater</td>\n",
       "      <td>Clothing</td>\n",
       "      <td>64</td>\n",
       "      <td>Maine</td>\n",
       "      <td>L</td>\n",
       "      <td>Maroon</td>\n",
       "      <td>Winter</td>\n",
       "      <td>3.1</td>\n",
       "      <td>Yes</td>\n",
       "      <td>Express</td>\n",
       "      <td>Yes</td>\n",
       "      <td>Yes</td>\n",
       "      <td>2</td>\n",
       "      <td>Cash</td>\n",
       "      <td>Fortnightly</td>\n",
       "    </tr>\n",
       "    <tr>\n",
       "      <th>2</th>\n",
       "      <td>3</td>\n",
       "      <td>50</td>\n",
       "      <td>Male</td>\n",
       "      <td>Jeans</td>\n",
       "      <td>Clothing</td>\n",
       "      <td>73</td>\n",
       "      <td>Massachusetts</td>\n",
       "      <td>S</td>\n",
       "      <td>Maroon</td>\n",
       "      <td>Spring</td>\n",
       "      <td>3.1</td>\n",
       "      <td>Yes</td>\n",
       "      <td>Free Shipping</td>\n",
       "      <td>Yes</td>\n",
       "      <td>Yes</td>\n",
       "      <td>23</td>\n",
       "      <td>Credit Card</td>\n",
       "      <td>Weekly</td>\n",
       "    </tr>\n",
       "    <tr>\n",
       "      <th>3</th>\n",
       "      <td>4</td>\n",
       "      <td>21</td>\n",
       "      <td>Male</td>\n",
       "      <td>Sandals</td>\n",
       "      <td>Footwear</td>\n",
       "      <td>90</td>\n",
       "      <td>Rhode Island</td>\n",
       "      <td>M</td>\n",
       "      <td>Maroon</td>\n",
       "      <td>Spring</td>\n",
       "      <td>3.5</td>\n",
       "      <td>Yes</td>\n",
       "      <td>Next Day Air</td>\n",
       "      <td>Yes</td>\n",
       "      <td>Yes</td>\n",
       "      <td>49</td>\n",
       "      <td>PayPal</td>\n",
       "      <td>Weekly</td>\n",
       "    </tr>\n",
       "    <tr>\n",
       "      <th>4</th>\n",
       "      <td>5</td>\n",
       "      <td>45</td>\n",
       "      <td>Male</td>\n",
       "      <td>Blouse</td>\n",
       "      <td>Clothing</td>\n",
       "      <td>49</td>\n",
       "      <td>Oregon</td>\n",
       "      <td>M</td>\n",
       "      <td>Turquoise</td>\n",
       "      <td>Spring</td>\n",
       "      <td>2.7</td>\n",
       "      <td>Yes</td>\n",
       "      <td>Free Shipping</td>\n",
       "      <td>Yes</td>\n",
       "      <td>Yes</td>\n",
       "      <td>31</td>\n",
       "      <td>PayPal</td>\n",
       "      <td>Annually</td>\n",
       "    </tr>\n",
       "  </tbody>\n",
       "</table>\n",
       "</div>"
      ],
      "text/plain": [
       "   Customer ID  Age Gender Item Purchased  Category  Purchase Amount (USD)  \\\n",
       "0            1   55   Male         Blouse  Clothing                     53   \n",
       "1            2   19   Male        Sweater  Clothing                     64   \n",
       "2            3   50   Male          Jeans  Clothing                     73   \n",
       "3            4   21   Male        Sandals  Footwear                     90   \n",
       "4            5   45   Male         Blouse  Clothing                     49   \n",
       "\n",
       "        Location Size      Color  Season  Review Rating Subscription Status  \\\n",
       "0       Kentucky    L       Gray  Winter            3.1                 Yes   \n",
       "1          Maine    L     Maroon  Winter            3.1                 Yes   \n",
       "2  Massachusetts    S     Maroon  Spring            3.1                 Yes   \n",
       "3   Rhode Island    M     Maroon  Spring            3.5                 Yes   \n",
       "4         Oregon    M  Turquoise  Spring            2.7                 Yes   \n",
       "\n",
       "   Shipping Type Discount Applied Promo Code Used  Previous Purchases  \\\n",
       "0        Express              Yes             Yes                  14   \n",
       "1        Express              Yes             Yes                   2   \n",
       "2  Free Shipping              Yes             Yes                  23   \n",
       "3   Next Day Air              Yes             Yes                  49   \n",
       "4  Free Shipping              Yes             Yes                  31   \n",
       "\n",
       "  Payment Method Frequency of Purchases  \n",
       "0          Venmo            Fortnightly  \n",
       "1           Cash            Fortnightly  \n",
       "2    Credit Card                 Weekly  \n",
       "3         PayPal                 Weekly  \n",
       "4         PayPal               Annually  "
      ]
     },
     "execution_count": 53,
     "metadata": {},
     "output_type": "execute_result"
    }
   ],
   "source": [
    "import pandas as pd\n",
    "import matplotlib.pyplot as plt\n",
    "import seaborn as sns\n",
    "df = pd.read_csv(\"C:/Users/arsinta/Downloads/shopping_trends_updated.csv\")\n",
    "df.head()"
   ]
  },
  {
   "cell_type": "markdown",
   "id": "4c69392c-addd-44aa-86ef-2b3cd3bb6cf3",
   "metadata": {},
   "source": [
    "# Visualisasi Data Usia Pelanggan"
   ]
  },
  {
   "cell_type": "code",
   "execution_count": 43,
   "id": "620b6017-fcc8-478f-83fd-b5fa0b81ba20",
   "metadata": {
    "tags": []
   },
   "outputs": [
    {
     "data": {
      "image/png": "[encoded data removed]",
      "text/plain": [
       "<Figure size 800x600 with 1 Axes>"
      ]
     },
     "metadata": {},
     "output_type": "display_data"
    }
   ],
   "source": [
    "plt.figure(figsize=(8,6))\n",
    "sns.histplot(df['Age'], bins=10, kde=True, color=\"pink\")\n",
    "plt.title('Distribusi Usia Pelanggan')\n",
    "plt.xlabel('Usia')\n",
    "plt.ylabel('Jumlah Pelanggan')\n",
    "plt.show()"
   ]
  },
  {
   "cell_type": "markdown",
   "id": "9b7284ef-3453-4f69-8c0f-b77fab37fa6e",
   "metadata": {},
   "source": [
    "Grafik histogram Kernel Density Estimation (KDE) ini menunjukkan bahwa usia pelanggan  antara  20 hingga 70 tahun relatif merata, tidak ada kelompok usia yang  dominan.\n",
    "Meskipun kurva KDE menunjukkan beberapa puncak kecil, yang mungkin mengindikasikan distribusi mendekati normal dan jumlah pelanggan cenderung sedikit meningkat pada umur 60an, distribusi keseluruhannya tampak simetris. Hal ini  menunjukkan bahwa jumlah pelanggan tersebar cukup merata di berbagai kelompok umur."
   ]
  },
  {
   "cell_type": "code",
   "execution_count": 51,
   "id": "4481f6a4-5948-486e-934c-19113f2525c3",
   "metadata": {
    "tags": []
   },
   "outputs": [
    {
     "name": "stdout",
     "output_type": "stream",
     "text": [
      "=== Analisis Pemusatan Data ===\n",
      "Mean: 44.07\n",
      "Median: 44.00\n",
      "Modus: 69.00\n",
      "\n",
      "=== Analisis Penyebaran Data ===\n",
      "Range: 52.00\n",
      "Variance: 231.21\n",
      "Standard Deviation: 15.21\n",
      "\n",
      "=== Skewness (Kemiringan Data) ===\n",
      "Skewness: -0.01\n",
      "Data miring ke kiri (Negatif).\n"
     ]
    }
   ],
   "source": [
    "import pandas as pd\n",
    "import numpy as np\n",
    "from scipy.stats import skew\n",
    "\n",
    "# Mengambil kolom 'Age' dan menghapus nilai NaN (jika ada)\n",
    "data_usia = df['Age'].dropna()\n",
    "\n",
    "# Menghitung pemusatan data\n",
    "mean = data_usia.mean()\n",
    "median = data_usia.median()\n",
    "modus = data_usia.mode()[0] if not data_usia.mode().empty else None\n",
    "\n",
    "# Menghitung penyebaran data\n",
    "range_usia = data_usia.max() - data_usia.min()\n",
    "variance = data_usia.var(ddof=0)  \n",
    "std_dev = data_usia.std(ddof=0)  \n",
    "\n",
    "# Menghitung skewness\n",
    "skewness = skew(data_usia)\n",
    "\n",
    "# Menampilkan hasil analisis dengan format \n",
    "print(\"=== Analisis Pemusatan Data ===\")\n",
    "print(f\"Mean: {mean:.2f}\")\n",
    "print(f\"Median: {median:.2f}\")\n",
    "if modus is not None:\n",
    "    print(f\"Modus: {modus:.2f}\")\n",
    "else:\n",
    "    print(\"Modus: Tidak ada nilai modus.\")\n",
    "\n",
    "print(\"\\n=== Analisis Penyebaran Data ===\")\n",
    "print(f\"Range: {range_usia:.2f}\")\n",
    "print(f\"Variance: {variance:.2f}\")\n",
    "print(f\"Standard Deviation: {std_dev:.2f}\")\n",
    "\n",
    "print(\"\\n=== Skewness (Kemiringan Data) ===\")\n",
    "print(f\"Skewness: {skewness:.2f}\")\n",
    "\n",
    "if skewness > 0:\n",
    "    print(\"Data miring ke kanan (Positif).\")\n",
    "elif skewness < 0:\n",
    "    print(\"Data miring ke kiri (Negatif).\")\n",
    "else:\n",
    "    print(\"Data simetris.\")\n"
   ]
  },
  {
   "cell_type": "markdown",
   "id": "0fb55da2-e43a-4c05-a0ec-60b0cf3f6fd3",
   "metadata": {},
   "source": [
    "Analisis statistik menunjukkan bahwa usia rata-rata pelanggan adalah 44,07 tahun,  mediannya 44,00, dan usia rata-ratanya 69 tahun, yang menunjukkan distribusi yang kurang lebih simetris.\n",
    " Rentang usia pelanggan adalah 52 tahun, variansnya 231,21, dan standar deviasinya 15,21, yang menunjukkan bahwa data usia berdistribusi sedang di sekitar mean.\n",
    " Nilai skewness sebesar -0,01 menunjukkan distribusi yang hampir simetris dengan sedikit kemiringan ke kiri, menunjukkan bahwa pelanggan berada pada kelompok umur yang sedikit  lebih tua, meskipun perbedaannya tidak besar.\n",
    " \n"
   ]
  },
  {
   "cell_type": "markdown",
   "id": "bf246693-46bc-44a1-b58f-6f2f9f049cd4",
   "metadata": {},
   "source": [
    "# Visualisasi Data Rating Ulasan"
   ]
  },
  {
   "cell_type": "code",
   "execution_count": 37,
   "id": "8399e17c-7e63-45a8-b3c4-647bec9b5760",
   "metadata": {
    "tags": []
   },
   "outputs": [
    {
     "data": {
      "image/png": "[encoded data removed]",
      "text/plain": [
       "<Figure size 800x600 with 1 Axes>"
      ]
     },
     "metadata": {},
     "output_type": "display_data"
    }
   ],
   "source": [
    "plt.figure(figsize=(8,6))\n",
    "sns.histplot(df['Review Rating'], bins=10, kde=True, color=\"lightgreen\")\n",
    "plt.title('Distribusi Rating Ulasan')\n",
    "plt.xlabel('Rating Ulasan')\n",
    "plt.ylabel('Jumlah Pelanggan')\n",
    "plt.show()"
   ]
  },
  {
   "cell_type": "markdown",
   "id": "f404b42d-c162-47d2-a949-233251ad2329",
   "metadata": {},
   "source": [
    "Grafik histogram Kernel Density Estimation (KDE) ini menunjukkan distribusi rating ulasan.\n",
    " Sebagian besar pelanggan memberikan peringkat dalam kisaran 3-4,5, dengan puncak yang cukup konsisten di sekitar peringkat 3,5 dan 4,5.\n",
    " Walaupun terdapat sedikit penurunan  rating yaitu 2,5 dan 5, namun sebarannya relatif simetris yang menunjukkan bahwa pelanggan cenderung memberikan rating ulasan sedang hingga tinggi.\n",
    " Tidak banyak perubahan di kedua arah, dengan pelanggan umumnya memberikan ulasan yang beragam, namun hal ini cenderung positif.\n",
    "\n"
   ]
  },
  {
   "cell_type": "code",
   "execution_count": 55,
   "id": "1c55dc01-ae5a-4960-b681-068b27c3526c",
   "metadata": {
    "tags": []
   },
   "outputs": [
    {
     "name": "stdout",
     "output_type": "stream",
     "text": [
      "=== Analisis Pemusatan Data untuk Rating Ulasan ===\n",
      "Mean: 3.75\n",
      "Median: 3.70\n",
      "Modus: 3.40\n",
      "\n",
      "=== Analisis Penyebaran Data ===\n",
      "Range: 2.50\n",
      "Variance: 0.51\n",
      "Standard Deviation: 0.72\n",
      "\n",
      "=== Skewness (Kemiringan Data) ===\n",
      "Skewness: 0.00\n",
      "Data miring ke kanan (Positif).\n"
     ]
    }
   ],
   "source": [
    "import pandas as pd\n",
    "import numpy as np\n",
    "from scipy.stats import skew\n",
    "\n",
    "# Mengambil kolom 'Review Rating' dan menghapus nilai NaN (jika ada)\n",
    "data_rating = df['Review Rating'].dropna()\n",
    "\n",
    "# Menghitung pemusatan data menggunakan pandas\n",
    "mean = data_rating.mean()  \n",
    "median = data_rating.median()  \n",
    "modus = data_rating.mode()[0] if not data_rating.mode().empty else None  \n",
    "\n",
    "# Menghitung penyebaran data\n",
    "range_rating = data_rating.max() - data_rating.min()  \n",
    "variance = data_rating.var(ddof=0)  \n",
    "std_dev = data_rating.std(ddof=0) \n",
    "\n",
    "# Menghitung skewness\n",
    "skewness = skew(data_rating)\n",
    "\n",
    "# Menampilkan hasil analisis pemusatan dan penyebaran data\n",
    "print(\"=== Analisis Pemusatan Data untuk Rating Ulasan ===\")\n",
    "print(f\"Mean: {mean:.2f}\")\n",
    "print(f\"Median: {median:.2f}\")\n",
    "if modus is not None:\n",
    "    print(f\"Modus: {modus:.2f}\")\n",
    "else:\n",
    "    print(\"Modus: Tidak ada nilai modus.\")\n",
    "\n",
    "print(\"\\n=== Analisis Penyebaran Data ===\")\n",
    "print(f\"Range: {range_rating:.2f}\")\n",
    "print(f\"Variance: {variance:.2f}\")\n",
    "print(f\"Standard Deviation: {std_dev:.2f}\")\n",
    "\n",
    "print(\"\\n=== Skewness (Kemiringan Data) ===\")\n",
    "print(f\"Skewness: {skewness:.2f}\")\n",
    "\n",
    "if skewness > 0:\n",
    "    print(\"Data miring ke kanan (Positif).\")\n",
    "elif skewness < 0:\n",
    "    print(\"Data miring ke kiri (Negatif).\")\n",
    "else:\n",
    "    print(\"Data simetris.\")"
   ]
  },
  {
   "cell_type": "markdown",
   "id": "4738decc-9243-449b-9cde-b278398f8a35",
   "metadata": {},
   "source": [
    "Analisis statistik menunjukkan bahwa pelanggan memberikan ulasan yang sangat baik secara keseluruhan, dengan rata-rata peringkat ulasan sebesar 3,75.\n",
    " Peringkat rata-rata yang diperoleh adalah 3,70, dengan separuh peringkat berada di bawah nilai tersebut, yang menunjukkan distribusi yang relatif seimbang.\n",
    " Modus nya 3.40 menunjukkan rating yang paling sering diberikan oleh pelanggan.\n",
    " Dalam penyebaran data, rentang skornya adalah 2,50 yang menunjukkan adanya perbedaan yang cukup besar antara skor tertinggi dan terendah.\n",
    " Variansi sebesar 0,51 dan standar deviasi sebesar 0,72 menunjukkan bahwa peringkat ulasan merupakan variabel moderat.\n",
    " Skewness  sebesar 0,00 menunjukkan bahwa distribusi rating bersifat simetris, artinya tidak cenderung condong ke kanan atau ke kiri.\n",
    " Secara keseluruhan, hasil ini menunjukkan bahwa peringkat ulasan cenderung stabil dan memiliki distribusi yang seimbang di antara pelanggan.\n",
    " Berdasarkan hal ini, kita bisa menyimpulkan bahwa distribusi ini mendekati distribusi normal.\n",
    "\n"
   ]
  },
  {
   "cell_type": "code",
   "execution_count": null,
   "id": "f5203f59-7d84-454e-be08-8b446df4dc4d",
   "metadata": {},
   "outputs": [],
   "source": []
  }
 ],
 "metadata": {
  "kernelspec": {
   "display_name": "Python 3 (ipykernel)",
   "language": "python",
   "name": "python3"
  },
  "language_info": {
   "codemirror_mode": {
    "name": "ipython",
    "version": 3
   },
   "file_extension": ".py",
   "mimetype": "text/x-python",
   "name": "python",
   "nbconvert_exporter": "python",
   "pygments_lexer": "ipython3",
   "version": "3.11.4"
  }
 },
 "nbformat": 4,
 "nbformat_minor": 5
}
